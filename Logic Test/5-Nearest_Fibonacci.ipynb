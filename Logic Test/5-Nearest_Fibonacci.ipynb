{
  "nbformat": 4,
  "nbformat_minor": 0,
  "metadata": {
    "colab": {
      "provenance": []
    },
    "kernelspec": {
      "name": "python3",
      "display_name": "Python 3"
    },
    "language_info": {
      "name": "python"
    }
  },
  "cells": [
    {
      "cell_type": "code",
      "source": [
        "import numpy as geek"
      ],
      "metadata": {
        "id": "k7Qfptpk-a6k"
      },
      "execution_count": 28,
      "outputs": []
    },
    {
      "cell_type": "code",
      "source": [
        "def _sum(arr):\n",
        " \n",
        "    # initialize a variable\n",
        "    # to store the sum\n",
        "    # while iterating through\n",
        "    # the array later\n",
        "    sum = 0\n",
        " \n",
        "    # iterate through the array\n",
        "    # and add each element to the sum variable\n",
        "    # one at a time\n",
        "    for i in arr:\n",
        "        sum = sum + i\n",
        " \n",
        "    return(sum)\n",
        " \n",
        " \n",
        "# driver function\n",
        "arr = []\n",
        "# input values to list\n",
        "arr = [15, 1, 3]\n",
        " \n",
        "# calculating length of array\n",
        "n = len(arr)\n",
        " \n",
        "ans = _sum(arr)\n",
        " \n",
        "# display sum\n",
        "print('Sum of the array is ', ans)"
      ],
      "metadata": {
        "colab": {
          "base_uri": "https://localhost:8080/"
        },
        "id": "mXZ90FXo8id-",
        "outputId": "093a3225-617f-442f-ccc2-f0fba4da5058"
      },
      "execution_count": 29,
      "outputs": [
        {
          "output_type": "stream",
          "name": "stdout",
          "text": [
            "Sum of the array is  19\n"
          ]
        }
      ]
    },
    {
      "cell_type": "code",
      "execution_count": 30,
      "metadata": {
        "colab": {
          "base_uri": "https://localhost:8080/"
        },
        "id": "Qixr8lFM4_3b",
        "outputId": "f5d0fb5d-fd7e-403b-c521-719585b8f9ab"
      },
      "outputs": [
        {
          "output_type": "stream",
          "name": "stdout",
          "text": [
            "21\n"
          ]
        }
      ],
      "source": [
        "def nearestFibonacci(num):\n",
        "\t\n",
        "\t# Base Case\n",
        "\tif (num == 0):\n",
        "\t\tprint(0)\n",
        "\t\treturn\n",
        "\n",
        "\t# Initialize the first & second\n",
        "\t# terms of the Fibonacci series\n",
        "\tfirst = 0\n",
        "\tsecond = 1\n",
        "\n",
        "\t# Store the third term\n",
        "\tthird = first + second\n",
        "\n",
        "\t# Iterate until the third term\n",
        "\t# is less than or equal to num\n",
        "\twhile (third <= num):\n",
        "\t\t\n",
        "\t\t# Update the first\n",
        "\t\tfirst = second\n",
        "\n",
        "\t\t# Update the second\n",
        "\t\tsecond = third\n",
        "\n",
        "\t\t# Update the third\n",
        "\t\tthird = first + second\n",
        "\n",
        "\t# Store the Fibonacci number\n",
        "\t# having smaller difference with N\n",
        "\tif (abs(third - num) >=\n",
        "\t\tabs(second - num)):\n",
        "\t\tans = second\n",
        "\telse:\n",
        "\t\tans = third\n",
        "\n",
        "\t# Print the result\n",
        "\tprint(ans)\n",
        "\n",
        "# Driver Code\n",
        "if __name__ == '__main__':\n",
        "\t\n",
        "\tN = ans\n",
        "\t\n",
        "\tnearestFibonacci(N)\n",
        " "
      ]
    },
    {
      "cell_type": "code",
      "source": [
        "in_num1 = 21\n",
        "in_num2 = ans\n",
        "  \n",
        "print (\"1st Input  number : \", in_num1)\n",
        "print (\"2nd Input  number : \", in_num2)\n",
        "    \n",
        "out_num = geek.subtract(in_num1, in_num2) \n",
        "print (\"Difference of two input number : \", out_num) "
      ],
      "metadata": {
        "colab": {
          "base_uri": "https://localhost:8080/"
        },
        "id": "0ggJife45WFb",
        "outputId": "6786f7f0-d55c-4989-b9df-e0b0195e3f75"
      },
      "execution_count": 31,
      "outputs": [
        {
          "output_type": "stream",
          "name": "stdout",
          "text": [
            "1st Input  number :  21\n",
            "2nd Input  number :  19\n",
            "Difference of two input number :  2\n"
          ]
        }
      ]
    },
    {
      "cell_type": "code",
      "source": [],
      "metadata": {
        "id": "U23fCUP99tPu"
      },
      "execution_count": null,
      "outputs": []
    }
  ]
}