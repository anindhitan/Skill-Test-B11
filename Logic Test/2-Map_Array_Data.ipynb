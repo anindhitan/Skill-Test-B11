{
  "nbformat": 4,
  "nbformat_minor": 0,
  "metadata": {
    "colab": {
      "provenance": []
    },
    "kernelspec": {
      "name": "python3",
      "display_name": "Python 3"
    },
    "language_info": {
      "name": "python"
    }
  },
  "cells": [
    {
      "cell_type": "code",
      "execution_count": 4,
      "metadata": {
        "colab": {
          "base_uri": "https://localhost:8080/"
        },
        "id": "9nSqvfhvbP7Q",
        "outputId": "a84a45df-874e-4f3e-99f5-ca771928ec17"
      },
      "outputs": [
        {
          "output_type": "stream",
          "name": "stdout",
          "text": [
            "Array yang dihasilkan yaitu :\n",
            "20 12 "
          ]
        }
      ],
      "source": [
        "def productArray(arr, n):\n",
        " \n",
        "    # dasar\n",
        "    if(n == 1):\n",
        "        print(0)\n",
        "        return\n",
        " \n",
        "    # ruang untuk kanan dan kiri\n",
        "    left = [0]*n\n",
        "    right = [0]*n\n",
        " \n",
        "    # ruang untuk hasil array\n",
        "    prod = [0]*n\n",
        " \n",
        "    # elemen paling kiri dan array selalu 1\n",
        "    left[0] = 1\n",
        " \n",
        "    # elemen paling kanan dan array selalu 1\n",
        "    right[n - 1] = 1\n",
        " \n",
        "    # konstruksi array kiri\n",
        "    for i in range(1, n):\n",
        "        left[i] = arr[i - 1] * left[i - 1]\n",
        " \n",
        "    # konstruksi array kanan\n",
        "    for j in range(n-2, -1, -1):\n",
        "        right[j] = arr[j + 1] * right[j + 1]\n",
        " \n",
        "    # konstruksi hasil array\n",
        "    # kiri[] dan kanan[]\n",
        "    for i in range(n):\n",
        "        prod[i] = left[i] * right[i]\n",
        " \n",
        "    # print hasil array\n",
        "    for i in range(n):\n",
        "        print(prod[i], end=' ')\n",
        " \n",
        " \n",
        "# Driver code\n",
        "arr = [12,20]\n",
        "n = len(arr)\n",
        "print(\"Array yang dihasilkan yaitu :\")\n",
        "productArray(arr, n)"
      ]
    }
  ]
}