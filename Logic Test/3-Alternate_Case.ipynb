{
  "nbformat": 4,
  "nbformat_minor": 0,
  "metadata": {
    "colab": {
      "provenance": []
    },
    "kernelspec": {
      "name": "python3",
      "display_name": "Python 3"
    },
    "language_info": {
      "name": "python"
    }
  },
  "cells": [
    {
      "cell_type": "code",
      "source": [
        "a = str(input('kalimat = '))\n",
        "print(a.swapcase())"
      ],
      "metadata": {
        "colab": {
          "base_uri": "https://localhost:8080/"
        },
        "id": "ZjgQ2Vr-2Ryq",
        "outputId": "7a7f6b05-8d45-44c2-ceef-c420bd4debe6"
      },
      "execution_count": 24,
      "outputs": [
        {
          "output_type": "stream",
          "name": "stdout",
          "text": [
            "kalimat = menDUNG tanPO Udan\n",
            "MENdung TANpo uDAN\n"
          ]
        }
      ]
    }
  ]
}