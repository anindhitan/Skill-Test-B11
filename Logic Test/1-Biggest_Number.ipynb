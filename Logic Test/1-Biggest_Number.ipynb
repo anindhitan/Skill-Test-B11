{
  "nbformat": 4,
  "nbformat_minor": 0,
  "metadata": {
    "colab": {
      "provenance": [],
      "collapsed_sections": []
    },
    "kernelspec": {
      "name": "python3",
      "display_name": "Python 3"
    },
    "language_info": {
      "name": "python"
    }
  },
  "cells": [
    {
      "cell_type": "code",
      "execution_count": 9,
      "metadata": {
        "colab": {
          "base_uri": "https://localhost:8080/"
        },
        "id": "JruLCZpzh9cJ",
        "outputId": "c3a5dcc4-376a-4393-fe95-67df7e04e7f6"
      },
      "outputs": [
        {
          "output_type": "stream",
          "name": "stdout",
          "text": [
            "Masukkan nilai a: 3\n",
            "Masukkan nilai b: 1\n",
            "Masukkan nilai c: 2\n",
            "Urutan: 3, 2, 1\n"
          ]
        }
      ],
      "source": [
        "from pickleshare import print_function\n",
        "def angka_terbesar (a, b, c):\n",
        "  if a > b and a > c:\n",
        "    return a\n",
        "  elif b > a and b > c:\n",
        "    return b\n",
        "\n",
        "  return c\n",
        "\n",
        "def angka_terkecil (a, b, c):\n",
        "  if a < b and a < c:\n",
        "    return a\n",
        "  elif b < a and b < c:\n",
        "    return b\n",
        "\n",
        "  return c\n",
        "\n",
        "def nilai_tengah (a, b, c):\n",
        "  if (b > a > c) or (c > a > b):\n",
        "    return a\n",
        "  elif (a > b > c) or  (c > b > a):\n",
        "    return b\n",
        "  \n",
        "  return c\n",
        "\n",
        "a, b, c = (\n",
        "  int(input('Masukkan nilai a: ')),\n",
        "  int(input('Masukkan nilai b: ')),\n",
        "  int(input('Masukkan nilai c: '))\n",
        ")\n",
        "\n",
        "i1 = angka_terkecil(a, b, c)\n",
        "i2 = nilai_tengah(a, b, c)\n",
        "i3 = angka_terbesar(a, b, c)\n",
        "\n",
        "if (i1 > 0) and (i2 > 0) and (i3 > 0):\n",
        "  print(f'Urutan: {i3}, {i2}, {i1}')\n",
        "elif (len(str(i1)) > 1) and (len(str(i2)) > 1) and (len(str(i3)) > 1):\n",
        "  print('null','null','null')\n",
        "else:\n",
        "  print('null','null','null')\n"
      ]
    },
    {
      "cell_type": "code",
      "source": [],
      "metadata": {
        "id": "Twqa7Fjxq1Fv"
      },
      "execution_count": null,
      "outputs": []
    }
  ]
}