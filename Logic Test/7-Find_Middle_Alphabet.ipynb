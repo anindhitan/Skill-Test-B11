{
  "nbformat": 4,
  "nbformat_minor": 0,
  "metadata": {
    "colab": {
      "provenance": [],
      "collapsed_sections": []
    },
    "kernelspec": {
      "name": "python3",
      "display_name": "Python 3"
    },
    "language_info": {
      "name": "python"
    }
  },
  "cells": [
    {
      "cell_type": "code",
      "source": [
        "import math\n",
        "\n",
        "alphabets = 'ABCDEFGHIJKLMNOPQRSTUVWXYZ'\n",
        "\n",
        "def find_middle(char1, char2):\n",
        "    index1 = alphabets.find(char1)\n",
        "    index2 = alphabets.find(char2)\n",
        "\n",
        "    if index2 - index1 == 1:\n",
        "        return ''\n",
        "    \n",
        "    total_index = index1 + index2\n",
        "    if (total_index % 2 != 0):\n",
        "        return alphabets[int(total_index/2 - 0.5)] + alphabets[int(total_index/2 + 0.5)]\n",
        "    return alphabets[int(total_index/2)]\n",
        "\n",
        "# Test Case\n",
        "print(find_middle('Q', 'U'))\n",
        "print(find_middle('R', 'U'))\n",
        "print(find_middle('T', 'Z'))\n",
        "print(find_middle('Q', 'Z'))"
      ],
      "metadata": {
        "id": "AIqKQmedY8Ew",
        "colab": {
          "base_uri": "https://localhost:8080/"
        },
        "outputId": "8d9cdb32-96ab-43cf-f70f-83cf4e3068c4"
      },
      "execution_count": 3,
      "outputs": [
        {
          "output_type": "stream",
          "name": "stdout",
          "text": [
            "S\n",
            "ST\n",
            "W\n",
            "UV\n"
          ]
        }
      ]
    }
  ]
}