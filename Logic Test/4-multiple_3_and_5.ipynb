{
  "nbformat": 4,
  "nbformat_minor": 0,
  "metadata": {
    "colab": {
      "provenance": [],
      "collapsed_sections": []
    },
    "kernelspec": {
      "name": "python3",
      "display_name": "Python 3"
    },
    "language_info": {
      "name": "python"
    }
  },
  "cells": [
    {
      "cell_type": "code",
      "execution_count": 1,
      "metadata": {
        "id": "PHili2aWS8Ip"
      },
      "outputs": [],
      "source": [
        "number = 10"
      ]
    },
    {
      "cell_type": "code",
      "source": [
        "divs = []\n",
        "for i in range(1, number):\n",
        "    if (1 % 3 == 0) & (i % 5 == 0):\n",
        "        print(i)\n",
        "    elif (i % 3 == 0) | (i % 5 == 0):\n",
        "        print (i)\n",
        "        divs.append(i)\n",
        "sum(divs)"
      ],
      "metadata": {
        "colab": {
          "base_uri": "https://localhost:8080/"
        },
        "id": "28CHSmmZTBv0",
        "outputId": "beafcfd3-9d64-4f37-eed7-989b9c59ffa6"
      },
      "execution_count": 5,
      "outputs": [
        {
          "output_type": "stream",
          "name": "stdout",
          "text": [
            "3\n",
            "5\n",
            "6\n",
            "9\n"
          ]
        },
        {
          "output_type": "execute_result",
          "data": {
            "text/plain": [
              "23"
            ]
          },
          "metadata": {},
          "execution_count": 5
        }
      ]
    },
    {
      "cell_type": "code",
      "source": [],
      "metadata": {
        "id": "EZCdGQ3BTiz8"
      },
      "execution_count": null,
      "outputs": []
    }
  ]
}