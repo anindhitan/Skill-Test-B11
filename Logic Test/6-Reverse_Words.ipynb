{
  "nbformat": 4,
  "nbformat_minor": 0,
  "metadata": {
    "colab": {
      "provenance": []
    },
    "kernelspec": {
      "name": "python3",
      "display_name": "Python 3"
    },
    "language_info": {
      "name": "python"
    }
  },
  "cells": [
    {
      "cell_type": "code",
      "execution_count": 8,
      "metadata": {
        "colab": {
          "base_uri": "https://localhost:8080/"
        },
        "id": "E1cbslKzOUe0",
        "outputId": "78a1fa18-46c5-4339-f4b1-e5ae302e99d1"
      },
      "outputs": [
        {
          "output_type": "stream",
          "name": "stdout",
          "text": [
            "What sentence you want to reverse = I am A Great human\n",
            "I ma A taerG namuh\n"
          ]
        }
      ],
      "source": [
        "def reverseWordSentence(Sentence):\n",
        "    words = Sentence.split(\" \")\n",
        "    newWords = [word[::-1] for word in words]\n",
        "    newSentence = \" \".join(newWords)\n",
        " \n",
        "    return newSentence\n",
        "\n",
        "Sentence = input('What sentence you want to reverse = ')\n",
        "print(reverseWordSentence(Sentence))"
      ]
    }
  ]
}